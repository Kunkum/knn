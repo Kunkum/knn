{
 "cells": [
  {
   "cell_type": "code",
   "execution_count": null,
   "metadata": {},
   "outputs": [],
   "source": [
    "import numpy as np\n",
    "import math\n",
    "from math import sqrt\n",
    "import matplotlib.pyplot as plt\n",
    "\n",
    "train = [[1,2,3],[2,3,4],[3,4,5]]\n",
    "test = [[3,5,7]]\n",
    "k = 1\n",
    "for i in test:\n",
    "    dis = []\n",
    "    for j in train:\n",
    "        distance = 0\n",
    "        for col in range(len(j)-1):\n",
    "            difference = (j[col]-i[col])**2\n",
    "            distance = distance + difference\n",
    "        distance = math.sqrt(distance)\n",
    "        dis.append(distance)\n",
    "    dis1 = dis.copy()\n",
    "    dis1.sort()\n",
    "    dis_indices = [dis.index(l) for l in dis1]\n",
    "    dis_indices = dis_indices[0:k]\n",
    "    predict = sum([train[m][len(train[i])-1] for m in dis_indices])/k\n",
    "    print(i)\n",
    "    print(predict)"
   ]
  }
 ],
 "metadata": {
  "kernelspec": {
   "display_name": "Python 3",
   "language": "python",
   "name": "python3"
  },
  "language_info": {
   "codemirror_mode": {
    "name": "ipython",
    "version": 3
   },
   "file_extension": ".py",
   "mimetype": "text/x-python",
   "name": "python",
   "nbconvert_exporter": "python",
   "pygments_lexer": "ipython3",
   "version": "3.7.4"
  }
 },
 "nbformat": 4,
 "nbformat_minor": 2
}
